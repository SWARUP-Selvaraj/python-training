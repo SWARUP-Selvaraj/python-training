{
  "nbformat": 4,
  "nbformat_minor": 0,
  "metadata": {
    "colab": {
      "name": "Introduction to Python.ipynb",
      "provenance": [],
      "collapsed_sections": [],
      "toc_visible": true,
      "authorship_tag": "ABX9TyOeuV29gesVnGVWn7sY/YeN",
      "include_colab_link": true
    },
    "kernelspec": {
      "name": "python3",
      "display_name": "Python 3"
    }
  },
  "cells": [
    {
      "cell_type": "markdown",
      "metadata": {
        "id": "view-in-github",
        "colab_type": "text"
      },
      "source": [
        "<a href=\"https://colab.research.google.com/github/SWARUP-Selvaraj/python-training/blob/main/Notebooks/Introduction_to_Python.ipynb\" target=\"_parent\"><img src=\"https://colab.research.google.com/assets/colab-badge.svg\" alt=\"Open In Colab\"/></a>"
      ]
    },
    {
      "cell_type": "markdown",
      "metadata": {
        "id": "7Yg2gYK_Yzvm"
      },
      "source": [
        "# [Contents](https://github.com/SWARUP-Selvaraj/python-training/blob/main/Notebooks/Introduction_to_Python.ipynb)\n",
        "* [Introduction](#scrollTo=MCn03hSeWznx)\n",
        "* [Why Python?](#scrollTo=iOIgmj5IZDiJ)\n",
        "* [Getting Started](#scrollTo=7dUh3kQ2g2EO)\n",
        "* [Further Practise](#scrollTo=NTEeZQCXlRHL)"
      ]
    },
    {
      "cell_type": "markdown",
      "metadata": {
        "id": "MCn03hSeWznx"
      },
      "source": [
        "\n",
        "\n",
        "# [Introduction](#scrollTo=7Yg2gYK_Yzvm)\n",
        "\n",
        "[Python](https://en.wikipedia.org/wiki/Python_(programming_language)) is an interpreted, high-level and general-purpose programming language.\n",
        "\n",
        "It has been developed by **Guido van Rossum** and is being maintained by the \n",
        "**Python Software Foundation**\n",
        "\n",
        "The official website of python is https://www.python.org/\n",
        "\n"
      ]
    },
    {
      "cell_type": "markdown",
      "metadata": {
        "id": "iOIgmj5IZDiJ"
      },
      "source": [
        "# [Why Python?](#scrollTo=7Yg2gYK_Yzvm)\n",
        "\n",
        "Python is the programming language of choice for the Scientific and Engineering Community.\n",
        "\n",
        "The reason for this are:\n",
        "* Simple language (easiest learning curve)\n",
        "* Giant Open Source community \n",
        "* Standard Packages available for everything (from Numerical integration to FFT, Sound & Image processing)\n",
        "* Multiple development options (Notebooks, Desktop apps, Web apps, Scripts)\n",
        "\n",
        "Few notable areas where python has been used are listed below:\n",
        "\n",
        "1. [CERN](https://cds.cern.ch/record/2274794/files/Poster-2017-592.pdf)\n",
        "1. [NASA](https://code.nasa.gov/?q=python)\n",
        "1. [ABAQUS](https://en.wikipedia.org/wiki/Abaqus)"
      ]
    },
    {
      "cell_type": "markdown",
      "metadata": {
        "id": "7dUh3kQ2g2EO"
      },
      "source": [
        "# [Getting Started](#scrollTo=7Yg2gYK_Yzvm)\n"
      ]
    },
    {
      "cell_type": "markdown",
      "metadata": {
        "id": "yapokYdI4Bv5"
      },
      "source": [
        "\n",
        "## [Colaboratory](#scrollTo=7dUh3kQ2g2EO)\n",
        "[Colaboratory](https://colab.research.google.com/) is a free to use python virtual environment provided by Google.\n",
        "\n",
        "It is the most easiest way to getting started with python and could be accessed by visiting https://colab.research.google.com/ from your browser.\n"
      ]
    },
    {
      "cell_type": "markdown",
      "metadata": {
        "id": "J-EvYveI4Iwd"
      },
      "source": [
        "\n",
        "## [IDLE](#scrollTo=7dUh3kQ2g2EO)\n",
        "IDLE is the default Integrated DeveLopment Environment for python.  You can download and install it from https://www.python.org/downloads/\n"
      ]
    },
    {
      "cell_type": "markdown",
      "metadata": {
        "id": "BzSnFpDs4LJ2"
      },
      "source": [
        "\n",
        "## [Anaconda](#scrollTo=7dUh3kQ2g2EO)\n",
        "Anaconda is an open source distribution of python.  It comes pre-packaged with [Jupyter Notebook](https://jupyter.org/) and [SPyDEr](https://www.spyder-ide.org/).\n",
        "You can download and install it from https://www.anaconda.com/products/individual#Downloads\n",
        "\n",
        "For beginners, SPyDEr will be the next best choice after Notebooks.\n"
      ]
    },
    {
      "cell_type": "markdown",
      "metadata": {
        "id": "vIr3jc-z4Nfa"
      },
      "source": [
        "\n",
        "## [PyCharm](#scrollTo=7dUh3kQ2g2EO)\n",
        "PyCharm is a Freemium IDE for python.\n",
        "\n",
        "You can download and install it from https://www.jetbrains.com/pycharm/download/#section=windows\n",
        "\n",
        "\n"
      ]
    },
    {
      "cell_type": "markdown",
      "metadata": {
        "id": "NTEeZQCXlRHL"
      },
      "source": [
        "# [Further Practise](#scrollTo=7Yg2gYK_Yzvm)\n",
        "\n",
        "1. [Python Tutorial](https://colab.research.google.com/github/cs231n/cs231n.github.io/blob/master/python-colab.ipynb)\n",
        "1. [Python Data Science Handbook](https://colab.research.google.com/github/jakevdp/PythonDataScienceHandbook/blob/master/notebooks/Index.ipynb)"
      ]
    },
    {
      "cell_type": "markdown",
      "metadata": {
        "id": "dhjFHxqR3fCf"
      },
      "source": [
        "# [Python Crash Course](#scrollTo=7Yg2gYK_Yzvm)\n",
        "\n"
      ]
    },
    {
      "cell_type": "markdown",
      "metadata": {
        "id": "hop7_JBb31it"
      },
      "source": [
        "## [Python Keywords](#scrollTo=dhjFHxqR3fCf)"
      ]
    },
    {
      "cell_type": "code",
      "metadata": {
        "colab": {
          "base_uri": "https://localhost:8080/",
          "height": 340
        },
        "id": "QEn5GlMjo_RC",
        "outputId": "04c3ff92-9fa9-42e5-aa3b-513c53b39e54"
      },
      "source": [
        "from IPython.display import HTML\n",
        "HTML('<iframe src=\"https://fast.wistia.net/embed/iframe/mrfzbpfnhq\" width=\"560\" height=\"315\">')"
      ],
      "execution_count": 2,
      "outputs": [
        {
          "output_type": "execute_result",
          "data": {
            "text/html": [
              "<iframe src=\"https://fast.wistia.net/embed/iframe/mrfzbpfnhq\" width=\"560\" height=\"315\">"
            ],
            "text/plain": [
              "<IPython.core.display.HTML object>"
            ]
          },
          "metadata": {
            "tags": []
          },
          "execution_count": 2
        }
      ]
    },
    {
      "cell_type": "markdown",
      "metadata": {
        "id": "9W0P-p124ckp"
      },
      "source": [
        "## [Basic Data Types](#scrollTo=dhjFHxqR3fCf)"
      ]
    },
    {
      "cell_type": "code",
      "metadata": {
        "colab": {
          "base_uri": "https://localhost:8080/",
          "height": 340
        },
        "id": "d9CSpRyx3P2N",
        "outputId": "cc5421e0-b639-4a5a-a5e3-a5d05b868e45"
      },
      "source": [
        "HTML('<iframe src=\"https://fast.wistia.net/embed/iframe/lmx4ap23kp\" width=\"560\" height=\"315\">')"
      ],
      "execution_count": 3,
      "outputs": [
        {
          "output_type": "execute_result",
          "data": {
            "text/html": [
              "<iframe src=\"https://fast.wistia.net/embed/iframe/lmx4ap23kp\" width=\"560\" height=\"315\">"
            ],
            "text/plain": [
              "<IPython.core.display.HTML object>"
            ]
          },
          "metadata": {
            "tags": []
          },
          "execution_count": 3
        }
      ]
    },
    {
      "cell_type": "markdown",
      "metadata": {
        "id": "dd5LmWW64jOI"
      },
      "source": [
        "## [Complex Data Type](#scrollTo=dhjFHxqR3fCf)"
      ]
    },
    {
      "cell_type": "code",
      "metadata": {
        "colab": {
          "base_uri": "https://localhost:8080/",
          "height": 340
        },
        "id": "9ZPMKk273SNL",
        "outputId": "8b632249-7b3b-4097-a89f-2a84533ec56d"
      },
      "source": [
        "HTML('<iframe src=\"https://fast.wistia.net/embed/iframe/a4dz6ofmt3\" width=\"560\" height=\"315\">')"
      ],
      "execution_count": 4,
      "outputs": [
        {
          "output_type": "execute_result",
          "data": {
            "text/html": [
              "<iframe src=\"https://fast.wistia.net/embed/iframe/a4dz6ofmt3\" width=\"560\" height=\"315\">"
            ],
            "text/plain": [
              "<IPython.core.display.HTML object>"
            ]
          },
          "metadata": {
            "tags": []
          },
          "execution_count": 4
        }
      ]
    },
    {
      "cell_type": "markdown",
      "metadata": {
        "id": "wEZL7WIj4p3U"
      },
      "source": [
        "## [Classes and Objects](#scrollTo=dhjFHxqR3fCf)"
      ]
    },
    {
      "cell_type": "code",
      "metadata": {
        "colab": {
          "base_uri": "https://localhost:8080/",
          "height": 340
        },
        "id": "Z429GQup3Uak",
        "outputId": "34cd7070-0738-4c2e-f0b1-4004c7ce8023"
      },
      "source": [
        "HTML('<iframe src=\"https://fast.wistia.net/embed/iframe/g1o6xa9gcp\" width=\"560\" height=\"315\">')"
      ],
      "execution_count": 5,
      "outputs": [
        {
          "output_type": "execute_result",
          "data": {
            "text/html": [
              "<iframe src=\"https://fast.wistia.net/embed/iframe/g1o6xa9gcp\" width=\"560\" height=\"315\">"
            ],
            "text/plain": [
              "<IPython.core.display.HTML object>"
            ]
          },
          "metadata": {
            "tags": []
          },
          "execution_count": 5
        }
      ]
    },
    {
      "cell_type": "markdown",
      "metadata": {
        "id": "Jky7n5qR4wS2"
      },
      "source": [
        "## [Python Tricks](#scrollTo=dhjFHxqR3fCf)"
      ]
    },
    {
      "cell_type": "code",
      "metadata": {
        "colab": {
          "base_uri": "https://localhost:8080/",
          "height": 340
        },
        "id": "lDernUQW3V80",
        "outputId": "399c9486-cc19-4d87-ccf3-7426a2336f1a"
      },
      "source": [
        "HTML('<iframe src=\"https://fast.wistia.net/embed/iframe/j8gm5bh67g\" width=\"560\" height=\"315\">')"
      ],
      "execution_count": 6,
      "outputs": [
        {
          "output_type": "execute_result",
          "data": {
            "text/html": [
              "<iframe src=\"https://fast.wistia.net/embed/iframe/j8gm5bh67g\" width=\"560\" height=\"315\">"
            ],
            "text/plain": [
              "<IPython.core.display.HTML object>"
            ]
          },
          "metadata": {
            "tags": []
          },
          "execution_count": 6
        }
      ]
    }
  ]
}