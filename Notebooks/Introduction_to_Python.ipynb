{
  "nbformat": 4,
  "nbformat_minor": 0,
  "metadata": {
    "colab": {
      "name": "Introduction to Python.ipynb",
      "provenance": [],
      "collapsed_sections": [],
      "toc_visible": true,
      "authorship_tag": "ABX9TyOw+DvPvKHQWyUgUd2kNGle",
      "include_colab_link": true
    },
    "kernelspec": {
      "name": "python3",
      "display_name": "Python 3"
    }
  },
  "cells": [
    {
      "cell_type": "markdown",
      "metadata": {
        "id": "view-in-github",
        "colab_type": "text"
      },
      "source": [
        "<a href=\"https://colab.research.google.com/github/SWARUP-Selvaraj/python-training/blob/main/Notebooks/Introduction_to_Python.ipynb\" target=\"_parent\"><img src=\"https://colab.research.google.com/assets/colab-badge.svg\" alt=\"Open In Colab\"/></a>"
      ]
    },
    {
      "cell_type": "markdown",
      "metadata": {
        "id": "7Yg2gYK_Yzvm"
      },
      "source": [
        "# [Contents](https://github.com/SWARUP-Selvaraj/python-training/blob/main/Notebooks/Introduction_to_Python.ipynb)\n",
        "* [1.0 Introduction](#scrollTo=MCn03hSeWznx)\n",
        "* [2.0 Why Python?](#scrollTo=iOIgmj5IZDiJ)\n",
        "* [3.0 Getting Started](#scrollTo=7dUh3kQ2g2EO)\n",
        "* [4.0 References](#scrollTo=Uy3TgKU8oPWY)"
      ]
    },
    {
      "cell_type": "markdown",
      "metadata": {
        "id": "MCn03hSeWznx"
      },
      "source": [
        "\n",
        "\n",
        "# [1.0 Introduction🐍](#scrollTo=7Yg2gYK_Yzvm)\n",
        "\n",
        "[Python](https://en.wikipedia.org/wiki/Python_(programming_language)) is an interpreted, high-level and general-purpose programming language.\n",
        "\n",
        "It has been developed by **Guido van Rossum** and is being maintained by the \n",
        "**Python Software Foundation**\n",
        "\n",
        "The official website of python is https://www.python.org/\n",
        "\n"
      ]
    },
    {
      "cell_type": "markdown",
      "metadata": {
        "id": "iOIgmj5IZDiJ"
      },
      "source": [
        "# [2.0 Why Python❓](#scrollTo=7Yg2gYK_Yzvm)\n",
        "\n",
        "Python is the programming language of choice for the Scientific and Engineering Community.\n",
        "\n",
        "The reason for this are:\n",
        "* Simple language (easiest learning curve)\n",
        "* Giant Open Source community \n",
        "* Standard Packages available for everything (from Numerical integration to FFT, Sound & Image processing)\n",
        "* Multiple development options (Notebooks, Desktop apps, Web apps, Scripts)\n",
        "\n",
        "Few notable areas where python has been used are listed below:\n",
        "\n",
        "1. [CERN](https://cds.cern.ch/record/2274794/files/Poster-2017-592.pdf)\n",
        "1. [NASA](https://code.nasa.gov/?q=python)\n",
        "1. [ABAQUS](https://en.wikipedia.org/wiki/Abaqus)\n",
        "1. [NASA Black Hole Image](https://www.nasa.gov/mission_pages/chandra/news/black-hole-image-makes-history)\n",
        "\n",
        "![Black Hole image](https://www.nasa.gov/sites/default/files/thumbnails/image/blackhole.png)"
      ]
    },
    {
      "cell_type": "markdown",
      "metadata": {
        "id": "7dUh3kQ2g2EO"
      },
      "source": [
        "# [3.0 Getting Started 🚀](#scrollTo=7Yg2gYK_Yzvm)\r\n",
        "\r\n",
        "There are multiple ways to work with python.  The most common way is to install an IDE (Integrated Development Environment) in your computer and use it to write and execute python scripts.\r\n",
        "\r\n",
        "A list of recommended Python IDE is listed in its official website https://wiki.python.org/moin/IntegratedDevelopmentEnvironments"
      ]
    },
    {
      "cell_type": "markdown",
      "metadata": {
        "id": "yapokYdI4Bv5"
      },
      "source": [
        "\n",
        "## [3.1 Colaboratory](#scrollTo=7dUh3kQ2g2EO)\n",
        "[Colaboratory](https://colab.research.google.com/) is a free to use python virtual environment provided by Google.\n",
        "\n",
        "It is the most easiest way to getting started with python and could be accessed by visiting https://colab.research.google.com/ from your browser.\n"
      ]
    },
    {
      "cell_type": "markdown",
      "metadata": {
        "id": "zczevqepplzI"
      },
      "source": [
        "## [3.2 Thonny](#scrollTo=7dUh3kQ2g2EO)\r\n",
        "\r\n",
        "[Thonny](https://thonny.org/) is a wonderful Integrated Development Environment for python beginners.\r\n",
        "\r\n",
        "You can download and install (Admin rights NOT required) it from https://github.com/thonny/thonny/releases/download/v3.3.0/thonny-3.3.0.exe"
      ]
    },
    {
      "cell_type": "markdown",
      "metadata": {
        "id": "J-EvYveI4Iwd"
      },
      "source": [
        "\n",
        "## [3.3 IDLE](#scrollTo=7dUh3kQ2g2EO)\n",
        "IDLE is the default Integrated Development Environment for python.  You can download and install it from https://www.python.org/downloads/\n"
      ]
    },
    {
      "cell_type": "markdown",
      "metadata": {
        "id": "BzSnFpDs4LJ2"
      },
      "source": [
        "\n",
        "## [3.4 Anaconda](#scrollTo=7dUh3kQ2g2EO)\n",
        "Anaconda is an open source distribution of python.  It comes pre-packaged with [Jupyter Notebook](https://jupyter.org/) and [SPyDEr](https://www.spyder-ide.org/).\n",
        "You can download and install it from https://www.anaconda.com/products/individual#Downloads\n",
        "\n",
        "For beginners, SPyDEr will be the next best choice after Notebooks.\n",
        "\n",
        "Installation instructions are available in the below link:\n",
        "\n",
        "https://docs.anaconda.com/anaconda/install/windows/\n"
      ]
    },
    {
      "cell_type": "code",
      "metadata": {
        "colab": {
          "base_uri": "https://localhost:8080/",
          "height": 340
        },
        "id": "6QSxJFoh5Bqj",
        "outputId": "12b5a80f-f2b0-4dd2-99f0-35662b853d25"
      },
      "source": [
        "from IPython.display import HTML\r\n",
        "HTML('<iframe src=\"https://www.youtube.com/embed/uOwCiZKj2rg?start=63&end=200\" width=\"560\" height=\"315\">')"
      ],
      "execution_count": 5,
      "outputs": [
        {
          "output_type": "execute_result",
          "data": {
            "text/html": [
              "<iframe src=\"https://www.youtube.com/embed/uOwCiZKj2rg?start=63&end=200\" width=\"560\" height=\"315\">"
            ],
            "text/plain": [
              "<IPython.core.display.HTML object>"
            ]
          },
          "metadata": {
            "tags": []
          },
          "execution_count": 5
        }
      ]
    },
    {
      "cell_type": "markdown",
      "metadata": {
        "id": "vIr3jc-z4Nfa"
      },
      "source": [
        "\n",
        "## [3.5 PyCharm](#scrollTo=7dUh3kQ2g2EO)\n",
        "PyCharm is a Freemium IDE for python.\n",
        "\n",
        "You can download and install it from https://www.jetbrains.com/pycharm/download/#section=windows\n",
        "\n",
        "\n"
      ]
    },
    {
      "cell_type": "markdown",
      "metadata": {
        "id": "Uy3TgKU8oPWY"
      },
      "source": [
        "# [4.0 References🧙‍♂️](#scrollTo=7Yg2gYK_Yzvm)\n",
        "\n",
        "1. [Language Reference](https://docs.python.org/3/reference/)\n",
        "1. [Library Reference](https://docs.python.org/3/library/)\n",
        "1. [Learning References](https://github.com/SWARUP-Selvaraj/python-training/blob/main/Notebooks/Learning_References.ipynb)\n",
        "1. [Introduction to Colab](https://colab.research.google.com/notebooks/intro.ipynb)\n",
        "1. [Python Tutorial](https://colab.research.google.com/github/cs231n/cs231n.github.io/blob/master/python-colab.ipynb)\n",
        "1. [Python Data Science Handbook](https://colab.research.google.com/github/jakevdp/PythonDataScienceHandbook/blob/master/notebooks/Index.ipynb)\n",
        "\n"
      ]
    }
  ]
}