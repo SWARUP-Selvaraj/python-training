{
  "nbformat": 4,
  "nbformat_minor": 0,
  "metadata": {
    "colab": {
      "name": "Introduction to Python.ipynb",
      "provenance": [],
      "collapsed_sections": [],
      "toc_visible": true,
      "authorship_tag": "ABX9TyMF6hefHd2ih1Roowt3MZPg",
      "include_colab_link": true
    },
    "kernelspec": {
      "name": "python3",
      "display_name": "Python 3"
    }
  },
  "cells": [
    {
      "cell_type": "markdown",
      "metadata": {
        "id": "view-in-github",
        "colab_type": "text"
      },
      "source": [
        "<a href=\"https://colab.research.google.com/github/SWARUP-Selvaraj/python-training/blob/main/Notebooks/Introduction_to_Python.ipynb\" target=\"_parent\"><img src=\"https://colab.research.google.com/assets/colab-badge.svg\" alt=\"Open In Colab\"/></a>"
      ]
    },
    {
      "cell_type": "markdown",
      "metadata": {
        "id": "7Yg2gYK_Yzvm"
      },
      "source": [
        "# Contents\n",
        "* [Introduction](#scrollTo=MCn03hSeWznx)\n",
        "* [Why Python?](#scrollTo=iOIgmj5IZDiJ)\n",
        "* [Getting Started](#scrollTo=7dUh3kQ2g2EO)\n",
        "* [Further Practise](#scrollTo=NTEeZQCXlRHL)"
      ]
    },
    {
      "cell_type": "markdown",
      "metadata": {
        "id": "MCn03hSeWznx"
      },
      "source": [
        "\n",
        "\n",
        "# [Introduction](#scrollTo=7Yg2gYK_Yzvm)\n",
        "\n",
        "[Python](https://en.wikipedia.org/wiki/Python_(programming_language)) is an interpreted, high-level and general-purpose programming language.\n",
        "\n",
        "It has been developed by **Guido van Rossum** and is being maintained by the \n",
        "**Python Software Foundation**\n",
        "\n",
        "The official website of python is https://www.python.org/\n",
        "\n"
      ]
    },
    {
      "cell_type": "markdown",
      "metadata": {
        "id": "iOIgmj5IZDiJ"
      },
      "source": [
        "# [Why Python?](#scrollTo=7Yg2gYK_Yzvm)\n",
        "\n",
        "Python is the programming language of choice for the Scientific and Engineering Community.\n",
        "\n",
        "The reason for this are:\n",
        "* Simple language (easiest learning curve)\n",
        "* Giant Open Source community \n",
        "* Standard Packages available for everything (from Numerical integration to FFT, Sound & Image processing)\n",
        "* Multiple development options (Notebooks, Desktop apps, Web apps, Scripts)\n",
        "\n",
        "Few notable areas where python has been used are listed below:\n",
        "\n",
        "1. [CERN](https://cds.cern.ch/record/2274794/files/Poster-2017-592.pdf)\n",
        "1. [NASA](https://code.nasa.gov/?q=python)\n",
        "1. [ABAQUS](https://en.wikipedia.org/wiki/Abaqus)"
      ]
    },
    {
      "cell_type": "markdown",
      "metadata": {
        "id": "7dUh3kQ2g2EO"
      },
      "source": [
        "# [Getting Started](#scrollTo=7Yg2gYK_Yzvm)\n",
        "\n",
        "## Colaboratory\n",
        "[Colaboratory](https://colab.research.google.com/) is a free to use python virtual environment provided by Google.\n",
        "\n",
        "It is the most easiest way to getting started with python and could be accessed by visiting https://colab.research.google.com/ from your browser.\n",
        "\n",
        "## IDLE\n",
        "\n",
        "## SPyDEr\n",
        "\n",
        "## PyCharm\n",
        "\n",
        "\n",
        "\n",
        "\n"
      ]
    },
    {
      "cell_type": "markdown",
      "metadata": {
        "id": "NTEeZQCXlRHL"
      },
      "source": [
        "# [Further Practise](#scrollTo=7Yg2gYK_Yzvm)\n",
        "\n",
        "1. [Python Tutorial](https://colab.research.google.com/github/cs231n/cs231n.github.io/blob/master/python-colab.ipynb)\n",
        "1. [Python Data Science Handbook](https://colab.research.google.com/github/jakevdp/PythonDataScienceHandbook/blob/master/notebooks/Index.ipynb)"
      ]
    }
  ]
}