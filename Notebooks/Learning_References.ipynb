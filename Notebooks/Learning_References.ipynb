{
  "nbformat": 4,
  "nbformat_minor": 0,
  "metadata": {
    "colab": {
      "name": "Learning References.ipynb",
      "provenance": [],
      "toc_visible": true,
      "authorship_tag": "ABX9TyN0ESAqxr/R+Rl7Ca0HPIx8",
      "include_colab_link": true
    },
    "kernelspec": {
      "name": "python3",
      "display_name": "Python 3"
    }
  },
  "cells": [
    {
      "cell_type": "markdown",
      "metadata": {
        "id": "view-in-github",
        "colab_type": "text"
      },
      "source": [
        "<a href=\"https://colab.research.google.com/github/SWARUP-Selvaraj/python-training/blob/main/Notebooks/Learning_References.ipynb\" target=\"_parent\"><img src=\"https://colab.research.google.com/assets/colab-badge.svg\" alt=\"Open In Colab\"/></a>"
      ]
    },
    {
      "cell_type": "markdown",
      "metadata": {
        "id": "hWX0yWCwz1KF"
      },
      "source": [
        "# Contents\r\n",
        "1. [Where to Learn Python From?](#scrollTo=QTvHnjq2l7Yd)\r\n",
        "1. [Websites](#scrollTo=gVy3YsQGctgo)\r\n",
        "1. [Finxter Email Academy](#scrollTo=PMlFfUhnZyVK)\r\n",
        "1. [Learn from the Creators](#scrollTo=sM0lW0gU0sxx)\r\n",
        "1. [References](#scrollTo=EfSb9aED-gVR)"
      ]
    },
    {
      "cell_type": "markdown",
      "metadata": {
        "id": "QTvHnjq2l7Yd"
      },
      "source": [
        "# [1. Where to Learn Python From?](#scrollTo=hWX0yWCwz1KF)\r\n",
        "\r\n",
        "There could be no better answer than \r\n",
        "\r\n",
        "https://www.python.org/doc/\r\n",
        "\r\n",
        "\r\n"
      ]
    },
    {
      "cell_type": "markdown",
      "metadata": {
        "id": "gVy3YsQGctgo"
      },
      "source": [
        "# [2. Websites](#scrollTo=hWX0yWCwz1KF)\r\n",
        "\r\n",
        "**[Official Documentation](https://www.python.org/doc/)** should be the **first reference** place.  There are NO better documentation for Python.\r\n",
        "\r\n",
        "There are some websites which provide problem driven learning experience by explaining how to solve a problem using Python.\r\n",
        "\r\n",
        "We cannot learn without Practicing.  In this section, I am listing few of the popular websites which could accelerate your learning."
      ]
    },
    {
      "cell_type": "markdown",
      "metadata": {
        "id": "ifsaFYHKczXp"
      },
      "source": [
        "## [2.1 Automate the Boring Stuff with Python](#scrollTo=gVy3YsQGctgo)\r\n",
        "\r\n",
        "A wonderful book on how to automate the boring stuffs with python is available in the below link:\r\n",
        "https://automatetheboringstuff.com/"
      ]
    },
    {
      "cell_type": "markdown",
      "metadata": {
        "id": "O1MnwysFdqY2"
      },
      "source": [
        "## [2.2 HackerRank](#scrollTo=gVy3YsQGctgo)\r\n",
        "\r\n",
        "A website where you can learn python by solving problems.\r\n",
        "https://www.hackerrank.com/domains/python"
      ]
    },
    {
      "cell_type": "markdown",
      "metadata": {
        "id": "JVXpj26pjvx7"
      },
      "source": [
        "## [2.3 SoloLearn](#scrollTo=gVy3YsQGctgo)\r\n",
        "\r\n",
        "A web based python course available at https://www.sololearn.com/Course/Python"
      ]
    },
    {
      "cell_type": "markdown",
      "metadata": {
        "id": "7a1pA-lLkQWd"
      },
      "source": [
        "## [2.4 w3schools](#scrollTo=gVy3YsQGctgo)\r\n",
        "\r\n",
        "A web based tutorial for python available at https://www.w3schools.com/python/"
      ]
    },
    {
      "cell_type": "markdown",
      "metadata": {
        "id": "nZcIKdItkm9h"
      },
      "source": [
        "## [2.5 GeeksforGeeks](#scrollTo=gVy3YsQGctgo)\r\n",
        "\r\n",
        "A web based tutorial for python available at https://www.geeksforgeeks.org/python-programming-language/\r\n"
      ]
    },
    {
      "cell_type": "markdown",
      "metadata": {
        "id": "MWxxvQ5nlKBa"
      },
      "source": [
        "## [2.6 Real Python](#scrollTo=gVy3YsQGctgo)\r\n",
        "\r\n",
        "A collection of Learning paths for python is available at https://realpython.com/learning-paths/"
      ]
    },
    {
      "cell_type": "markdown",
      "metadata": {
        "id": "PMlFfUhnZyVK"
      },
      "source": [
        "# [3. Finxter Email Academy](#scrollTo=hWX0yWCwz1KF)"
      ]
    },
    {
      "cell_type": "markdown",
      "metadata": {
        "id": "B5iRFF4ZaOQ6"
      },
      "source": [
        "## [3.1 Python Crash Course](#scrollTo=PMlFfUhnZyVK)\r\n",
        "\r\n",
        "1. [Python Keywords](#scrollTo=Ud8AoRB2Zg8I)\r\n",
        "1. [Basic Data Types](#scrollTo=J7XZclo9ZcsF)\r\n",
        "1. [Complex Data Types](#scrollTo=-wA6UShcZZJc)\r\n",
        "1. [Classes and Objects](#scrollTo=PmxSvo7RZVEZ)\r\n",
        "1. [Python Tricks](#scrollTo=AE2XHNf9ZTJb)"
      ]
    },
    {
      "cell_type": "markdown",
      "metadata": {
        "id": "Ud8AoRB2Zg8I"
      },
      "source": [
        "### [3.1.1 Python Keywords](#scrollTo=B5iRFF4ZaOQ6)"
      ]
    },
    {
      "cell_type": "code",
      "metadata": {
        "colab": {
          "base_uri": "https://localhost:8080/",
          "height": 340
        },
        "id": "QR50pcxvZA0Q",
        "outputId": "121b5ba6-94e6-475d-95f2-041a4ca2b36b"
      },
      "source": [
        "from IPython.display import HTML\r\n",
        "HTML('<iframe src=\"https://fast.wistia.net/embed/iframe/mrfzbpfnhq\" width=\"560\" height=\"315\">')"
      ],
      "execution_count": null,
      "outputs": [
        {
          "output_type": "execute_result",
          "data": {
            "text/html": [
              "<iframe src=\"https://fast.wistia.net/embed/iframe/mrfzbpfnhq\" width=\"560\" height=\"315\">"
            ],
            "text/plain": [
              "<IPython.core.display.HTML object>"
            ]
          },
          "metadata": {
            "tags": []
          },
          "execution_count": 1
        }
      ]
    },
    {
      "cell_type": "markdown",
      "metadata": {
        "id": "J7XZclo9ZcsF"
      },
      "source": [
        "### [3.1.2 Basic Data Types](#scrollTo=B5iRFF4ZaOQ6)"
      ]
    },
    {
      "cell_type": "code",
      "metadata": {
        "colab": {
          "base_uri": "https://localhost:8080/",
          "height": 340
        },
        "id": "PmAAquKFZBSr",
        "outputId": "6457604d-0772-4b64-a149-64e11f057114"
      },
      "source": [
        "HTML('<iframe src=\"https://fast.wistia.net/embed/iframe/lmx4ap23kp\" width=\"560\" height=\"315\">')"
      ],
      "execution_count": null,
      "outputs": [
        {
          "output_type": "execute_result",
          "data": {
            "text/html": [
              "<iframe src=\"https://fast.wistia.net/embed/iframe/lmx4ap23kp\" width=\"560\" height=\"315\">"
            ],
            "text/plain": [
              "<IPython.core.display.HTML object>"
            ]
          },
          "metadata": {
            "tags": []
          },
          "execution_count": 2
        }
      ]
    },
    {
      "cell_type": "markdown",
      "metadata": {
        "id": "-wA6UShcZZJc"
      },
      "source": [
        "### [3.1.3 Complex Data Type](#scrollTo=B5iRFF4ZaOQ6)"
      ]
    },
    {
      "cell_type": "code",
      "metadata": {
        "colab": {
          "base_uri": "https://localhost:8080/",
          "height": 340
        },
        "id": "0CQ0BjSGZEP2",
        "outputId": "1a96927e-762c-4420-d59b-e10a771afe4b"
      },
      "source": [
        "HTML('<iframe src=\"https://fast.wistia.net/embed/iframe/a4dz6ofmt3\" width=\"560\" height=\"315\">')"
      ],
      "execution_count": null,
      "outputs": [
        {
          "output_type": "execute_result",
          "data": {
            "text/html": [
              "<iframe src=\"https://fast.wistia.net/embed/iframe/a4dz6ofmt3\" width=\"560\" height=\"315\">"
            ],
            "text/plain": [
              "<IPython.core.display.HTML object>"
            ]
          },
          "metadata": {
            "tags": []
          },
          "execution_count": 3
        }
      ]
    },
    {
      "cell_type": "markdown",
      "metadata": {
        "id": "PmxSvo7RZVEZ"
      },
      "source": [
        "### [3.1.4 Classes and Objects](#scrollTo=B5iRFF4ZaOQ6)"
      ]
    },
    {
      "cell_type": "code",
      "metadata": {
        "colab": {
          "base_uri": "https://localhost:8080/",
          "height": 340
        },
        "id": "cRBFZNr-ZGkq",
        "outputId": "9e4fd626-33e9-4bff-a94e-eeb28ea2f730"
      },
      "source": [
        "HTML('<iframe src=\"https://fast.wistia.net/embed/iframe/g1o6xa9gcp\" width=\"560\" height=\"315\">')"
      ],
      "execution_count": null,
      "outputs": [
        {
          "output_type": "execute_result",
          "data": {
            "text/html": [
              "<iframe src=\"https://fast.wistia.net/embed/iframe/g1o6xa9gcp\" width=\"560\" height=\"315\">"
            ],
            "text/plain": [
              "<IPython.core.display.HTML object>"
            ]
          },
          "metadata": {
            "tags": []
          },
          "execution_count": 4
        }
      ]
    },
    {
      "cell_type": "markdown",
      "metadata": {
        "id": "AE2XHNf9ZTJb"
      },
      "source": [
        "### [3.1.5 Python Tricks](#scrollTo=B5iRFF4ZaOQ6)\r\n"
      ]
    },
    {
      "cell_type": "code",
      "metadata": {
        "colab": {
          "base_uri": "https://localhost:8080/",
          "height": 340
        },
        "id": "b7QXCV_TZJQV",
        "outputId": "838c45ae-ae73-4c85-c176-8bff75a04b94"
      },
      "source": [
        "HTML('<iframe src=\"https://fast.wistia.net/embed/iframe/j8gm5bh67g\" width=\"560\" height=\"315\">')"
      ],
      "execution_count": null,
      "outputs": [
        {
          "output_type": "execute_result",
          "data": {
            "text/html": [
              "<iframe src=\"https://fast.wistia.net/embed/iframe/j8gm5bh67g\" width=\"560\" height=\"315\">"
            ],
            "text/plain": [
              "<IPython.core.display.HTML object>"
            ]
          },
          "metadata": {
            "tags": []
          },
          "execution_count": 5
        }
      ]
    },
    {
      "cell_type": "markdown",
      "metadata": {
        "id": "sM0lW0gU0sxx"
      },
      "source": [
        "# [4. Learn from the Creators](#scrollTo=hWX0yWCwz1KF)\r\n",
        "\r\n",
        "Another effective way to learn is by looking at the source codes written by expert python developers (definetely NOT me 😆).\r\n",
        "\r\n",
        "\r\n",
        "1. [pandas](https://pandas.pydata.org/) - [Source Code](https://github.com/pandas-dev/pandas)\r\n",
        "1. [NumPy](https://numpy.org/) - [Source Code](https://github.com/numpy/numpy)\r\n",
        "1. [SciPy](https://scipy.org/) - [Source Code](https://github.com/scipy/scipy)"
      ]
    },
    {
      "cell_type": "markdown",
      "metadata": {
        "id": "EfSb9aED-gVR"
      },
      "source": [
        "# [5. References](#scrollTo=hWX0yWCwz1KF)\r\n",
        "\r\n",
        "1. [Introduction to Python](https://github.com/SWARUP-Selvaraj/python-training/blob/main/Notebooks/Introduction_to_Python.ipynb)"
      ]
    }
  ]
}