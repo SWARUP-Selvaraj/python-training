{
  "nbformat": 4,
  "nbformat_minor": 0,
  "metadata": {
    "colab": {
      "name": "Learning References.ipynb",
      "provenance": [],
      "toc_visible": true,
      "authorship_tag": "ABX9TyO3vM71ZdMF47dyJGh6zJCD",
      "include_colab_link": true
    },
    "kernelspec": {
      "name": "python3",
      "display_name": "Python 3"
    }
  },
  "cells": [
    {
      "cell_type": "markdown",
      "metadata": {
        "id": "view-in-github",
        "colab_type": "text"
      },
      "source": [
        "<a href=\"https://colab.research.google.com/github/SWARUP-Selvaraj/python-training/blob/main/Notebooks/Learning_References.ipynb\" target=\"_parent\"><img src=\"https://colab.research.google.com/assets/colab-badge.svg\" alt=\"Open In Colab\"/></a>"
      ]
    },
    {
      "cell_type": "markdown",
      "metadata": {
        "id": "QTvHnjq2l7Yd"
      },
      "source": [
        "# 1 Where to Learn Python From?\r\n",
        "\r\n",
        "\r\n",
        "\r\n",
        "\r\n"
      ]
    },
    {
      "cell_type": "markdown",
      "metadata": {
        "id": "gVy3YsQGctgo"
      },
      "source": [
        "# 2 Websites"
      ]
    },
    {
      "cell_type": "markdown",
      "metadata": {
        "id": "ifsaFYHKczXp"
      },
      "source": [
        "## 2.1 Automate the Boring Stuff with Python\r\n",
        "\r\n",
        "A wonderful book on how to automate the boring stuffs with python is available in the below link:\r\n",
        "https://automatetheboringstuff.com/"
      ]
    },
    {
      "cell_type": "markdown",
      "metadata": {
        "id": "O1MnwysFdqY2"
      },
      "source": [
        "## 2.2 HackerRank\r\n",
        "\r\n",
        "A website where you can learn python by solving problems.\r\n",
        "https://www.hackerrank.com/domains/python"
      ]
    },
    {
      "cell_type": "markdown",
      "metadata": {
        "id": "JVXpj26pjvx7"
      },
      "source": [
        "## 2.3 SoloLearn\r\n",
        "\r\n",
        "A web based python course available at https://www.sololearn.com/Course/Python"
      ]
    },
    {
      "cell_type": "markdown",
      "metadata": {
        "id": "7a1pA-lLkQWd"
      },
      "source": [
        "## 2.4 w3schools\r\n",
        "\r\n",
        "A web based tutorial for python available at https://www.w3schools.com/python/"
      ]
    },
    {
      "cell_type": "markdown",
      "metadata": {
        "id": "nZcIKdItkm9h"
      },
      "source": [
        "## 2.5 GeeksforGeeks\r\n",
        "\r\n",
        "A web based tutorial for python available at https://www.geeksforgeeks.org/python-programming-language/\r\n"
      ]
    },
    {
      "cell_type": "markdown",
      "metadata": {
        "id": "MWxxvQ5nlKBa"
      },
      "source": [
        "## 2.6 Real Python\r\n",
        "\r\n",
        "A collection of Learning paths for python is available at https://realpython.com/learning-paths/"
      ]
    },
    {
      "cell_type": "markdown",
      "metadata": {
        "id": "PMlFfUhnZyVK"
      },
      "source": [
        "# 3 Finxter Email Academy"
      ]
    },
    {
      "cell_type": "markdown",
      "metadata": {
        "id": "B5iRFF4ZaOQ6"
      },
      "source": [
        "## 3.1 Python Crash Course\r\n",
        "\r\n",
        "1. [Python Keywords](#scrollTo=Ud8AoRB2Zg8I)\r\n",
        "1. [Basic Data Types](#scrollTo=J7XZclo9ZcsF)\r\n",
        "1. [Complex Data Types](#scrollTo=-wA6UShcZZJc)\r\n",
        "1. [Classes and Objects](#scrollTo=PmxSvo7RZVEZ)\r\n",
        "1. [Python Tricks](#scrollTo=AE2XHNf9ZTJb)"
      ]
    },
    {
      "cell_type": "markdown",
      "metadata": {
        "id": "Ud8AoRB2Zg8I"
      },
      "source": [
        "### [3.1.1 Python Keywords](#scrollTo=PMlFfUhnZyVK)"
      ]
    },
    {
      "cell_type": "code",
      "metadata": {
        "colab": {
          "base_uri": "https://localhost:8080/",
          "height": 340
        },
        "id": "QR50pcxvZA0Q",
        "outputId": "121b5ba6-94e6-475d-95f2-041a4ca2b36b"
      },
      "source": [
        "from IPython.display import HTML\r\n",
        "HTML('<iframe src=\"https://fast.wistia.net/embed/iframe/mrfzbpfnhq\" width=\"560\" height=\"315\">')"
      ],
      "execution_count": 1,
      "outputs": [
        {
          "output_type": "execute_result",
          "data": {
            "text/html": [
              "<iframe src=\"https://fast.wistia.net/embed/iframe/mrfzbpfnhq\" width=\"560\" height=\"315\">"
            ],
            "text/plain": [
              "<IPython.core.display.HTML object>"
            ]
          },
          "metadata": {
            "tags": []
          },
          "execution_count": 1
        }
      ]
    },
    {
      "cell_type": "markdown",
      "metadata": {
        "id": "J7XZclo9ZcsF"
      },
      "source": [
        "### [3.1.2 Basic Data Types](#scrollTo=PMlFfUhnZyVK)"
      ]
    },
    {
      "cell_type": "code",
      "metadata": {
        "colab": {
          "base_uri": "https://localhost:8080/",
          "height": 340
        },
        "id": "PmAAquKFZBSr",
        "outputId": "6457604d-0772-4b64-a149-64e11f057114"
      },
      "source": [
        "HTML('<iframe src=\"https://fast.wistia.net/embed/iframe/lmx4ap23kp\" width=\"560\" height=\"315\">')"
      ],
      "execution_count": 2,
      "outputs": [
        {
          "output_type": "execute_result",
          "data": {
            "text/html": [
              "<iframe src=\"https://fast.wistia.net/embed/iframe/lmx4ap23kp\" width=\"560\" height=\"315\">"
            ],
            "text/plain": [
              "<IPython.core.display.HTML object>"
            ]
          },
          "metadata": {
            "tags": []
          },
          "execution_count": 2
        }
      ]
    },
    {
      "cell_type": "markdown",
      "metadata": {
        "id": "-wA6UShcZZJc"
      },
      "source": [
        "### [3.1.3 Complex Data Type](#scrollTo=PMlFfUhnZyVK)"
      ]
    },
    {
      "cell_type": "code",
      "metadata": {
        "colab": {
          "base_uri": "https://localhost:8080/",
          "height": 340
        },
        "id": "0CQ0BjSGZEP2",
        "outputId": "1a96927e-762c-4420-d59b-e10a771afe4b"
      },
      "source": [
        "HTML('<iframe src=\"https://fast.wistia.net/embed/iframe/a4dz6ofmt3\" width=\"560\" height=\"315\">')"
      ],
      "execution_count": 3,
      "outputs": [
        {
          "output_type": "execute_result",
          "data": {
            "text/html": [
              "<iframe src=\"https://fast.wistia.net/embed/iframe/a4dz6ofmt3\" width=\"560\" height=\"315\">"
            ],
            "text/plain": [
              "<IPython.core.display.HTML object>"
            ]
          },
          "metadata": {
            "tags": []
          },
          "execution_count": 3
        }
      ]
    },
    {
      "cell_type": "markdown",
      "metadata": {
        "id": "PmxSvo7RZVEZ"
      },
      "source": [
        "### [3.1.4 Classes and Objects](#scrollTo=PMlFfUhnZyVK)"
      ]
    },
    {
      "cell_type": "code",
      "metadata": {
        "colab": {
          "base_uri": "https://localhost:8080/",
          "height": 340
        },
        "id": "cRBFZNr-ZGkq",
        "outputId": "9e4fd626-33e9-4bff-a94e-eeb28ea2f730"
      },
      "source": [
        "HTML('<iframe src=\"https://fast.wistia.net/embed/iframe/g1o6xa9gcp\" width=\"560\" height=\"315\">')"
      ],
      "execution_count": 4,
      "outputs": [
        {
          "output_type": "execute_result",
          "data": {
            "text/html": [
              "<iframe src=\"https://fast.wistia.net/embed/iframe/g1o6xa9gcp\" width=\"560\" height=\"315\">"
            ],
            "text/plain": [
              "<IPython.core.display.HTML object>"
            ]
          },
          "metadata": {
            "tags": []
          },
          "execution_count": 4
        }
      ]
    },
    {
      "cell_type": "markdown",
      "metadata": {
        "id": "AE2XHNf9ZTJb"
      },
      "source": [
        "### [3.1.5 Python Tricks](#scrollTo=PMlFfUhnZyVK)\r\n"
      ]
    },
    {
      "cell_type": "code",
      "metadata": {
        "colab": {
          "base_uri": "https://localhost:8080/",
          "height": 340
        },
        "id": "b7QXCV_TZJQV",
        "outputId": "838c45ae-ae73-4c85-c176-8bff75a04b94"
      },
      "source": [
        "HTML('<iframe src=\"https://fast.wistia.net/embed/iframe/j8gm5bh67g\" width=\"560\" height=\"315\">')"
      ],
      "execution_count": 5,
      "outputs": [
        {
          "output_type": "execute_result",
          "data": {
            "text/html": [
              "<iframe src=\"https://fast.wistia.net/embed/iframe/j8gm5bh67g\" width=\"560\" height=\"315\">"
            ],
            "text/plain": [
              "<IPython.core.display.HTML object>"
            ]
          },
          "metadata": {
            "tags": []
          },
          "execution_count": 5
        }
      ]
    }
  ]
}